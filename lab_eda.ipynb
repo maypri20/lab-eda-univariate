{
 "cells": [
  {
   "cell_type": "code",
   "execution_count": null,
   "id": "4aa167f6-292b-444e-9da9-da7a145182e0",
   "metadata": {},
   "outputs": [],
   "source": [
    "import pandas as pd\n",
    "import seaborn as sns\n",
    "import matplotlib.pyplot as plt\n",
    "import numpy as np\n",
    "\n",
    "df = pd.read_csv(\"/Users/priyanka/Documents/IronHack/Lab Practics & submission/folder_data/amz_dataset.csv\")\n",
    "df"
   ]
  },
  {
   "cell_type": "code",
   "execution_count": null,
   "id": "80255cd7-ced6-4e00-8b96-adc80afa578c",
   "metadata": {},
   "outputs": [],
   "source": [
    "#Part 1: Understanding Product Categories\n",
    "#1.1 frequency table for category\n",
    "frequency_table = df['category'].value_counts()\n",
    "print(frequency_table)\n",
    "#1.2 top 5 most listed product categories\n",
    "top5 = frequency_table.head(5)\n",
    "top5"
   ]
  },
  {
   "cell_type": "code",
   "execution_count": null,
   "id": "d9e8180f-9d61-4d70-894e-5d4a6d9e70f8",
   "metadata": {},
   "outputs": [],
   "source": [
    "#2.1 distribution of products across different categories using a bar chart. \n",
    "#ax=sns.barplot(y=frequency_table.index, x=frequency_table.values, palette=\"Set3\", hue=frequency_table.index, legend=True )\n",
    "#sns.move_legend(ax, \"lower right\")\n",
    "#plt.show()\n",
    "\n",
    "plt.figure(figsize=(12,6))\n",
    "top5.plot(kind='bar', color='skyblue')\n",
    "plt.title('Distribution of Products Across Categories')\n",
    "plt.xlabel('Product Category')\n",
    "plt.ylabel('Number of Products')\n",
    "plt.xticks(rotation=45, ha='right')\n",
    "plt.show()"
   ]
  },
  {
   "cell_type": "code",
   "execution_count": null,
   "id": "2eb9450b-805c-4d28-8edb-9f974db4be39",
   "metadata": {},
   "outputs": [],
   "source": [
    "#2.2 For a subset of top categories, visualize their proportions using a pie chart. Does any category dominate the listings?\n",
    "top5.value_counts().plot.pie(autopct='%.1f%%', startangle=90, colors=sns.color_palette(\"Set3\"));\n",
    "plt.show()"
   ]
  },
  {
   "cell_type": "code",
   "execution_count": null,
   "id": "70da83b4-3399-47ec-8e5c-d0b194da6715",
   "metadata": {},
   "outputs": [],
   "source": [
    "#Part 2: Delving into Product Pricing, 1.Measures of Centrality:\n",
    "#1.1the mean, median, and mode for the price of products.\n",
    "mean = df['price'].mean()\n",
    "median = df['price'].median()\n",
    "mode = df['price'].mode()[0]\n",
    "print(mean, median, mode)"
   ]
  },
  {
   "cell_type": "code",
   "execution_count": null,
   "id": "7b3cf3a4-da03-4e51-bbf7-16be8b9cad6d",
   "metadata": {},
   "outputs": [],
   "source": [
    "#1.2 What's the average price point of products listed? How does this compare with the most common price point (mode)\n",
    "mean = df['price'].mean()\n",
    "\n",
    "mode = df['price'].mode()[0]\n",
    "\n",
    "print(\"the avg price:\",mean)\n",
    "print(\"common price point:\",mode)"
   ]
  },
  {
   "cell_type": "markdown",
   "id": "f46615f4-bce1-4e9e-b095-7e380df7abaf",
   "metadata": {},
   "source": []
  },
  {
   "cell_type": "code",
   "execution_count": null,
   "id": "6024be38-c7bf-46aa-bd82-292f977863b8",
   "metadata": {},
   "outputs": [],
   "source": [
    "#2.Measures of Dispersion:\n",
    "#2.1 Determine the variance, standard deviation, range, and interquartile range for product price.\n",
    "variance = df['price'].var()\n",
    "std_dev = df['price'].std()\n",
    "min_price = df['price'].min()\n",
    "max_price = df['price'].max()\n",
    "range_price = max_price - min_price\n",
    "quantiles_price = df['price'].quantile([0.25, 0.5, 0.75])\n",
    "print(\"variance:\", variance), \n",
    "print(\"Standard deviation:\", std_dev)\n",
    "print(\"range price:\", range_price)\n",
    "print(\"Quantiles:\", quantiles_price)\n",
    "\n"
   ]
  },
  {
   "cell_type": "code",
   "execution_count": null,
   "id": "04b911e4-74bc-42f7-9c20-b29a5776efd3",
   "metadata": {},
   "outputs": [],
   "source": [
    "#2.2How varied are the product prices? Are there any indicators of a significant spread in price\n",
    "if range is high, standard deviation is high , quartiles are high product prices are highly varied\n",
    "if standard deviation and quartiles are low, prices are clustered with less variation"
   ]
  },
  {
   "cell_type": "code",
   "execution_count": null,
   "id": "f8413375-83ce-42f5-bd43-8b627327cc69",
   "metadata": {},
   "outputs": [],
   "source": [
    "#3.1\n",
    "plt.figure(figsize=(10, 6))\n",
    "sns.histplot(df['price'], bins=30, kde=False, color='skyblue')\n",
    "plt.title('Distribution of Product Prices')\n",
    "plt.xlabel('Price')\n",
    "plt.ylabel('Number of Products')\n",
    "plt.show()"
   ]
  },
  {
   "cell_type": "code",
   "execution_count": null,
   "id": "44350c24-c775-4508-89d3-84f9583c3d47",
   "metadata": {},
   "outputs": [],
   "source": [
    "#3.2\n",
    "# Box plot\n",
    "plt.figure(figsize=(8, 4))\n",
    "sns.boxplot(x=df['price'], color='skyblue')\n",
    "plt.title('Box Plot of Product Prices')\n",
    "plt.xlabel('Price')\n",
    "plt.show()\n",
    "\n",
    "#outliers far away, that confirms extreme high-priced products"
   ]
  },
  {
   "cell_type": "code",
   "execution_count": null,
   "id": "7e50bf97-a702-4367-807e-e5be694a9586",
   "metadata": {},
   "outputs": [],
   "source": [
    "#Unpacking Product Ratings\n",
    "#1.1the mean, median, and mode for the rating of products.\n",
    "mean = df['stars'].mean()\n",
    "median = df['stars'].median()\n",
    "mode = df['stars'].mode()[0]\n",
    "print(mean, median, mode)"
   ]
  },
  {
   "cell_type": "code",
   "execution_count": null,
   "id": "dddd164b-ebde-4f4b-84a1-b33865347a07",
   "metadata": {},
   "outputs": [],
   "source": [
    "#1.2 How do customers generally rate products? Is there a common trend?\n",
    "Ratings are often clustered at 4 or 5 stars, showing a positive bias (customers tend to rate products favorably)."
   ]
  },
  {
   "cell_type": "code",
   "execution_count": null,
   "id": "48f8bebc-9998-4fc8-94e1-02523526d8f9",
   "metadata": {},
   "outputs": [],
   "source": [
    "print(\"Null values:\", df['stars'].isnull().sum())\n",
    "print(\"Unique values:\", df['stars'].unique())"
   ]
  },
  {
   "cell_type": "code",
   "execution_count": null,
   "id": "47102b0f-f29c-46f4-aaef-e4f4ca3c972f",
   "metadata": {},
   "outputs": [],
   "source": [
    "#2.1Determine the variance, standard deviation, and interquartile range for product rating.\n",
    "variance = df['stars'].var()\n",
    "std_dev = df['stars'].std()\n",
    "\n",
    "print(\"variance:\", variance), \n",
    "print(\"Standard deviation:\", std_dev)"
   ]
  },
  {
   "cell_type": "code",
   "execution_count": null,
   "id": "0ec5dfd6-b328-497e-bfa9-edf87dfa296e",
   "metadata": {},
   "outputs": [],
   "source": [
    "# Ensure numeric\n",
    "df['stars'] = pd.to_numeric(df['stars'], errors='coerce')\n",
    "stars_clean = df['stars'].dropna()\n",
    "\n",
    "# Calculate Q1 and Q3 as single numbers\n",
    "Q1 = stars_clean.quantile(0.25)\n",
    "Q3 = stars_clean.quantile(0.75)\n",
    "IQR = Q3 - Q1\n",
    "print(\"Interquartile range:\",IQR)"
   ]
  },
  {
   "cell_type": "code",
   "execution_count": null,
   "id": "6df6b17b-1ae2-47c8-9d58-581923fc16ac",
   "metadata": {},
   "outputs": [],
   "source": [
    "Interpretation\n",
    "\n",
    "Ratings are highly inconsistent. Customers’ feedback varies drastically from very low to very high.\n",
    "\n",
    "This is unusual for most Amazon data (where 4–5 stars dominate), which suggests:\n",
    "\n",
    "Either this dataset includes products with extreme reviews"
   ]
  },
  {
   "cell_type": "code",
   "execution_count": null,
   "id": "1da06a37-723d-4cfc-a2cc-162f858d8c09",
   "metadata": {},
   "outputs": [],
   "source": [
    "#3.1 Shape of the Distribution:\n",
    "\n",
    "#Calculate the skewness and kurtosis for the rating column.\n",
    "skew = df['stars'].skew()\n",
    "kurtosis = df['stars'].kurt()\n",
    "print(skew, kurtosis)"
   ]
  },
  {
   "cell_type": "code",
   "execution_count": null,
   "id": "876ddda1-1893-46bc-969d-eacb72cef69b",
   "metadata": {},
   "outputs": [],
   "source": [
    "negative kurtosis means, it has light tails, The ratings are fairly symmetric and have fewer extreme outliers than a normal distribution."
   ]
  },
  {
   "cell_type": "code",
   "execution_count": null,
   "id": "1e0e5dc0-94a5-4a30-8ab1-7f112b68573e",
   "metadata": {},
   "outputs": [],
   "source": [
    "#histogram\n",
    "plt.figure(figsize=(10, 6))\n",
    "sns.histplot(df['stars'], bins=30, kde=False, color='skyblue')\n",
    "plt.title('Distribution of Product rating')\n",
    "plt.xlabel('rating')\n",
    "plt.ylabel('Number of Products')\n",
    "plt.show()"
   ]
  },
  {
   "cell_type": "code",
   "execution_count": null,
   "id": "b0aed9b3-c3f2-4d12-805b-7f6237ede070",
   "metadata": {},
   "outputs": [],
   "source": []
  }
 ],
 "metadata": {
  "kernelspec": {
   "display_name": "Python [conda env:base] *",
   "language": "python",
   "name": "conda-base-py"
  },
  "language_info": {
   "codemirror_mode": {
    "name": "ipython",
    "version": 3
   },
   "file_extension": ".py",
   "mimetype": "text/x-python",
   "name": "python",
   "nbconvert_exporter": "python",
   "pygments_lexer": "ipython3",
   "version": "3.13.5"
  }
 },
 "nbformat": 4,
 "nbformat_minor": 5
}
